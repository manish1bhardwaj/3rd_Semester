{
 "cells": [
  {
   "cell_type": "code",
   "execution_count": 19,
   "metadata": {},
   "outputs": [
    {
     "name": "stderr",
     "output_type": "stream",
     "text": [
      "C:\\Users\\Dell\\AppData\\Local\\Temp\\ipykernel_10708\\747107986.py:7: UserWarning: pandas only supports SQLAlchemy connectable (engine/connection) or database string URI or sqlite3 DBAPI2 connection. Other DBAPI2 objects are not tested. Please consider using SQLAlchemy.\n",
      "  sql_query=pd.read_sql_query('select * from [dbo].[ord - ord]',connection)\n"
     ]
    }
   ],
   "source": [
    "import pandas as pd\n",
    "import pyodbc\n",
    "connection=pyodbc.connect(\"DRIVER={ODBC Driver 17 for SQL Server};\"\n",
    "                            \"SERVER=Manish-LAPTOP;\"\n",
    "                            \"DATABASE=CB-Database;\"\n",
    "                            \"Trusted_Connection=yes;\")\n",
    "sql_query=pd.read_sql_query('select * from [dbo].[ord - ord]',connection)\n",
    "data=pd.DataFrame(sql_query)\n",
    "data\n",
    "sql_query.to_csv('orders.csv')"
   ]
  },
  {
   "cell_type": "code",
   "execution_count": 22,
   "metadata": {},
   "outputs": [
    {
     "name": "stdout",
     "output_type": "stream",
     "text": [
      "Connection Successful!\n",
      "Data inserted successfully.\n",
      "Connection Closed\n"
     ]
    }
   ],
   "source": [
    "import pyodbc\n",
    "\n",
    "# Connection string\n",
    "conn_str = pyodbc.connect(\"DRIVER={ODBC Driver 17 for SQL Server};\"\n",
    "                          \"SERVER=Manish-LAPTOP;\"\n",
    "                          \"DATABASE=CB-Database;\"\n",
    "                          \"Trusted_Connection=yes;\")\n",
    "\n",
    "try:\n",
    "    conn = conn_str  # No need to call pyodbc.connect again, conn_str is the connection\n",
    "    print(\"Connection Successful!\")\n",
    "\n",
    "    cursor = conn.cursor()\n",
    "\n",
    "    # SQL insert query\n",
    "    insert_query = \"\"\"\n",
    "        INSERT INTO [HDFC Account Details](Account_number, Customer_Name, Pan_Id, Mobile_number)\n",
    "        VALUES (?, ?, ?, ?)\n",
    "    \"\"\"\n",
    "    # Data to insert\n",
    "    data = ('8236836', 'PRIYASHU', 'HDFC187281CF', '9829842923')\n",
    "\n",
    "    # Execute the query\n",
    "    cursor.execute(insert_query, data)\n",
    "    conn.commit()  # Commit the transaction\n",
    "    print(\"Data inserted successfully.\")\n",
    "\n",
    "except pyodbc.Error as e:\n",
    "    print(f\"Connection or SQL execution failed: {e}\")\n",
    "\n",
    "finally:\n",
    "    # Close the connection if it's open\n",
    "    if 'conn' in locals() and conn is not None:\n",
    "        conn.close()\n",
    "        print(\"Connection Closed\")\n"
   ]
  }
 ],
 "metadata": {
  "kernelspec": {
   "display_name": "Python 3",
   "language": "python",
   "name": "python3"
  },
  "language_info": {
   "codemirror_mode": {
    "name": "ipython",
    "version": 3
   },
   "file_extension": ".py",
   "mimetype": "text/x-python",
   "name": "python",
   "nbconvert_exporter": "python",
   "pygments_lexer": "ipython3",
   "version": "3.12.4"
  }
 },
 "nbformat": 4,
 "nbformat_minor": 2
}
