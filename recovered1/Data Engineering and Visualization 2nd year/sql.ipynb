{
 "cells": [
  {
   "cell_type": "code",
   "execution_count": null,
   "metadata": {
    "vscode": {
     "languageId": "plaintext"
    }
   },
   "outputs": [],
   "source": [
    "!pip install pyodbc\n",
    "!pip install requests\n",
    "import pandas as pd\n",
    "import pyodbc\n",
    "import requests # Fixed import statement\n",
    "\n",
    "# ... (Rest of your code) ...\n",
    "API_KEY = '1afe5cda384f0d71887086d3367612ce'\n",
    "SQL_Server = 'MANISH-LAPTOP'\n",
    "DATABASE = '[CB-Database]'\n",
    "USERNAME = ''\n",
    "PASSWORD = ''\n",
    "def extract_data(api_key):\n",
    "  url = 'https://api.themoviedb.org/3/movie/top_rated?api_key=1afe5cda384f0d71887086d3367612ce&language=en-US&page=1%27'\n",
    "  response = request.get(url)\n",
    "  if response.status_code == 200:\n",
    "    return response.json()['result'][:20]\n",
    "  else:\n",
    "    print('Error Fetching data from TMDb API:',response.status_code)\n",
    "    return []\n",
    "    def transform_data(raw_data):\n",
    "  df = pd.DataFrame(raw_data)\n",
    "  df = df[['id','title','overview','release_date','popularity','vote_average','vote_count']]\n",
    "  df.columns = ['Movie_id','Title','Overview','Release_date','Popularity','Vote_average','Vote_count']\n",
    "  return df\n",
    "  def load_data_to_sql(df):\n",
    "    connection_string = f'DRIVER={{SQL Server}};SERVER={SQL_Server};DATABASE={DATABASE};UID={USERNAME};PWD={PASSWORD}'\n",
    "    with pyodbc.connect(connection_string) as conn:\n",
    "        cursor = conn.cursor()\n",
    "        # The rest of your code that interacts with the database connection goes here\n",
    "        cursor.execute('''\n",
    "IF NOT EXISTS(SELECT*FROM sysobjects WHERE name='Top_Rated_Movies' AND xtype='U')\n",
    "CREATE TABLE Top_Rated_Movies(\n",
    "  MOVIE_ID INT PRIMARY KEY,\n",
    "  MOVIE_TITLE NVARCHAR(255) NOT NULL,\n",
    "  OVERVIEW TEXT,\n",
    "  RELEASE_DATE DATE,  -- Added comma here\n",
    "  POPULARITY FLOAT,\n",
    "  VOTE_AVERAGE FLOAT,\n",
    "  VOTE_COUNT INT\n",
    ")\n",
    "''')\n",
    "for index,row in df.iterrows():\n",
    "  cursor.execute('''\n",
    "  INSERT INTO Top_Rated_Movies(MOVIE_ID,MOVIE_TITLE,OVERVIEW,RELEASE_DATE,POPULARITY,VOTE_AVERAGE,VOTE_COUNT)\n",
    "  VALUES(?,?,?,?,?,?,?)\n",
    "  ''', row['Movie_id'],row['Title'],row['Overview'],row['Release_date'],row['Popularity'],row['Vote_average'],row['Vote_count'])\n",
    "  conn.commit()\n",
    "  def run_etl():\n",
    "  raw_data = extract_data(API_KEY)\n",
    "  transformed_data = transform_data(raw_data)\n",
    "  load_data_to_sql(transformed_data)\n",
    "  print('ETL process completed successfully...')\n",
    "\n",
    "run_etl()"
   ]
  }
 ],
 "metadata": {
  "language_info": {
   "name": "python"
  }
 },
 "nbformat": 4,
 "nbformat_minor": 2
}
